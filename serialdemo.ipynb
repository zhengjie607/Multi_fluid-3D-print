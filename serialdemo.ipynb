{
 "cells": [
  {
   "cell_type": "code",
   "execution_count": 14,
   "metadata": {},
   "outputs": [
    {
     "name": "stdout",
     "output_type": "stream",
     "text": [
      "12.44\n"
     ]
    }
   ],
   "source": [
    "import SendConmand\n",
    "import serial\n",
    "import time\n",
    "class serialControl_inject:\n",
    "    def __init__(self,portname,baudrate=9600):\n",
    "        self.serial=serial.Serial(portname,baudrate)\n",
    "        self.isOpen=self.serial.isOpen()\n",
    "        #self.reset()\n",
    "        self.totalLength=0\n",
    "    def OnlyMove(self,vol,direction=0):\n",
    "        movelength=vol*24.88/20\n",
    "        myvol=vol\n",
    "        conmand=SendConmand.Move(myvol,direction)\n",
    "        self.serial.write(conmand)\n",
    "    # 移动注射阀，vol为体积，direction为方向，0代表抽溶剂\n",
    "    def move(self,vol,direction=0):\n",
    "        movelength=vol*24.88/20\n",
    "        myvol=vol\n",
    "        if movelength+self.totalLength>30:\n",
    "            movelength=30-self.totalLength\n",
    "            myvol=movelength*20/24.88\n",
    "        conmand=SendConmand.baseConmand(SendConmand.GET_CURRENT_POSITION)\n",
    "        self.serial.write(conmand)\n",
    "        a=self.serial.read(8)[3:5]\n",
    "        pos1=int.from_bytes(a, byteorder='little', signed=True)\n",
    "        #print(pos1)\n",
    "        conmand=SendConmand.Move(myvol,direction)\n",
    "        self.serial.write(conmand)\n",
    "        self.serial.read(8)\n",
    "        conmand=SendConmand.baseConmand(SendConmand.GET_CURRENT_POSITION)\n",
    "        self.serial.write(conmand)\n",
    "        a=self.serial.read(8)[3:5]\n",
    "        pos2=int.from_bytes(a, byteorder='little', signed=True)\n",
    "        #print(pos2)\n",
    "        distance=abs(pos2-pos1)*24.88/9952\n",
    "        self.totalLength=self.getPosition()\n",
    "        return distance\n",
    "    def reset(self):\n",
    "        conmand=SendConmand.baseConmand(SendConmand.RESET)\n",
    "        self.serial.write(conmand)\n",
    "        self.serial.read(8)\n",
    "        conmand=SendConmand.baseConmand(SendConmand.CLEAR_POSITION)\n",
    "        self.serial.write(conmand)\n",
    "        self.serial.read(8)\n",
    "        conmand=SendConmand.baseConmand(SendConmand.GET_CURRENT_POSITION)\n",
    "        self.serial.write(conmand)\n",
    "        a=self.serial.read(8)[3:5]\n",
    "        pos2=int.from_bytes(a, byteorder='little', signed=True)\n",
    "        return pos2\n",
    "    def getPosition(self):\n",
    "        conmand=SendConmand.baseConmand(SendConmand.GET_CURRENT_POSITION)\n",
    "        self.serial.write(conmand)\n",
    "        a=self.serial.read(8)[3:5]\n",
    "        pos2=int.from_bytes(a, byteorder='little', signed=True)\n",
    "        return pos2*24.88/9952\n",
    "    def setSpeed(self,speed):\n",
    "        conmand=SendConmand.setCurrentSpeed(speed)\n",
    "        self.serial.write(conmand)\n",
    "        self.serial.read(8)\n",
    "        conmand=SendConmand.baseConmand(SendConmand.GET_MAX_SPEED)\n",
    "        self.serial.write(conmand)\n",
    "        a=self.serial.read(8)[3:5]\n",
    "        myspeed=int.from_bytes(a, byteorder='little', signed=True)\n",
    "        return myspeed\n",
    "    def setDefaultSpeed(self,speed):\n",
    "        conmand=SendConmand.setMaxSpeed(speed)\n",
    "        self.serial.write(conmand)\n",
    "        self.serial.read(8)\n",
    "        conmand=SendConmand.baseConmand(SendConmand.GET_MAX_SPEED)\n",
    "        self.serial.write(conmand)\n",
    "        a=self.serial.read(8)[3:5]\n",
    "        myspeed=int.from_bytes(a, byteorder='little', signed=True)\n",
    "        return myspeed\n",
    "if __name__=='__main__':\n",
    "    s=serialControl_inject('/dev/cu.usbserial')\n",
    "    '''s1=serial.Serial('/dev/cu.usbserial-14430',9600)\n",
    "    on=bytes('o',encoding='utf-8')\n",
    "    off=bytes('f',encoding='utf-8')\n",
    "    s1.write(on)\n",
    "    time.sleep(1)'''\n",
    "    #a=s.setSpeed(50)\n",
    "    a=s.move(10,0)\n",
    "    '''time.sleep(0.5)\n",
    "    s1.write(off)'''\n",
    "    print(a)\n"
   ]
  },
  {
   "cell_type": "code",
   "execution_count": 12,
   "metadata": {},
   "outputs": [
    {
     "data": {
      "text/plain": [
       "0"
      ]
     },
     "execution_count": 12,
     "metadata": {},
     "output_type": "execute_result"
    }
   ],
   "source": [
    "s.setSpeed(200)"
   ]
  },
  {
   "cell_type": "code",
   "execution_count": 15,
   "metadata": {},
   "outputs": [
    {
     "data": {
      "text/plain": [
       "0"
      ]
     },
     "execution_count": 15,
     "metadata": {},
     "output_type": "execute_result"
    }
   ],
   "source": [
    "s.reset()"
   ]
  },
  {
   "cell_type": "code",
   "execution_count": 68,
   "metadata": {},
   "outputs": [
    {
     "data": {
      "text/plain": [
       "1"
      ]
     },
     "execution_count": 68,
     "metadata": {},
     "output_type": "execute_result"
    }
   ],
   "source": [
    "s1=serial.Serial('/dev/cu.usbserial-14430',9600)\n",
    "on=bytes('o',encoding='utf-8')\n",
    "off=bytes('f',encoding='utf-8')\n",
    "s1.write(on)"
   ]
  },
  {
   "cell_type": "code",
   "execution_count": 54,
   "metadata": {},
   "outputs": [
    {
     "data": {
      "text/plain": [
       "1"
      ]
     },
     "execution_count": 54,
     "metadata": {},
     "output_type": "execute_result"
    }
   ],
   "source": [
    "on1=bytes('q',encoding='utf-8')\n",
    "off1=bytes('w',encoding='utf-8')\n",
    "on2=bytes('e',encoding='utf-8')\n",
    "off2=bytes('r',encoding='utf-8')\n",
    "s1.write(on1)"
   ]
  },
  {
   "cell_type": "code",
   "execution_count": 56,
   "metadata": {},
   "outputs": [
    {
     "data": {
      "text/plain": [
       "1"
      ]
     },
     "execution_count": 56,
     "metadata": {},
     "output_type": "execute_result"
    }
   ],
   "source": []
  },
  {
   "cell_type": "code",
   "execution_count": 66,
   "metadata": {},
   "outputs": [
    {
     "ename": "SerialException",
     "evalue": "write failed: [Errno 6] Device not configured",
     "output_type": "error",
     "traceback": [
      "\u001b[0;31m---------------------------------------------------------------------------\u001b[0m",
      "\u001b[0;31mOSError\u001b[0m                                   Traceback (most recent call last)",
      "\u001b[0;32m/anaconda3/lib/python3.6/site-packages/serial/serialposix.py\u001b[0m in \u001b[0;36mwrite\u001b[0;34m(self, data)\u001b[0m\n\u001b[1;32m    536\u001b[0m             \u001b[0;32mtry\u001b[0m\u001b[0;34m:\u001b[0m\u001b[0;34m\u001b[0m\u001b[0;34m\u001b[0m\u001b[0m\n\u001b[0;32m--> 537\u001b[0;31m                 \u001b[0mn\u001b[0m \u001b[0;34m=\u001b[0m \u001b[0mos\u001b[0m\u001b[0;34m.\u001b[0m\u001b[0mwrite\u001b[0m\u001b[0;34m(\u001b[0m\u001b[0mself\u001b[0m\u001b[0;34m.\u001b[0m\u001b[0mfd\u001b[0m\u001b[0;34m,\u001b[0m \u001b[0md\u001b[0m\u001b[0;34m)\u001b[0m\u001b[0;34m\u001b[0m\u001b[0;34m\u001b[0m\u001b[0m\n\u001b[0m\u001b[1;32m    538\u001b[0m                 \u001b[0;32mif\u001b[0m \u001b[0mtimeout\u001b[0m\u001b[0;34m.\u001b[0m\u001b[0mis_non_blocking\u001b[0m\u001b[0;34m:\u001b[0m\u001b[0;34m\u001b[0m\u001b[0;34m\u001b[0m\u001b[0m\n",
      "\u001b[0;31mOSError\u001b[0m: [Errno 6] Device not configured",
      "\nDuring handling of the above exception, another exception occurred:\n",
      "\u001b[0;31mSerialException\u001b[0m                           Traceback (most recent call last)",
      "\u001b[0;32m<ipython-input-66-22211084a421>\u001b[0m in \u001b[0;36m<module>\u001b[0;34m()\u001b[0m\n\u001b[0;32m----> 1\u001b[0;31m \u001b[0ms1\u001b[0m\u001b[0;34m.\u001b[0m\u001b[0mwrite\u001b[0m\u001b[0;34m(\u001b[0m\u001b[0mon\u001b[0m\u001b[0;34m)\u001b[0m\u001b[0;34m\u001b[0m\u001b[0;34m\u001b[0m\u001b[0m\n\u001b[0m",
      "\u001b[0;32m/anaconda3/lib/python3.6/site-packages/serial/serialposix.py\u001b[0m in \u001b[0;36mwrite\u001b[0;34m(self, data)\u001b[0m\n\u001b[1;32m    569\u001b[0m                 \u001b[0;31m# https://www.python.org/dev/peps/pep-0475.\u001b[0m\u001b[0;34m\u001b[0m\u001b[0;34m\u001b[0m\u001b[0;34m\u001b[0m\u001b[0m\n\u001b[1;32m    570\u001b[0m                 \u001b[0;32mif\u001b[0m \u001b[0me\u001b[0m\u001b[0;34m.\u001b[0m\u001b[0merrno\u001b[0m \u001b[0;32mnot\u001b[0m \u001b[0;32min\u001b[0m \u001b[0;34m(\u001b[0m\u001b[0merrno\u001b[0m\u001b[0;34m.\u001b[0m\u001b[0mEAGAIN\u001b[0m\u001b[0;34m,\u001b[0m \u001b[0merrno\u001b[0m\u001b[0;34m.\u001b[0m\u001b[0mEALREADY\u001b[0m\u001b[0;34m,\u001b[0m \u001b[0merrno\u001b[0m\u001b[0;34m.\u001b[0m\u001b[0mEWOULDBLOCK\u001b[0m\u001b[0;34m,\u001b[0m \u001b[0merrno\u001b[0m\u001b[0;34m.\u001b[0m\u001b[0mEINPROGRESS\u001b[0m\u001b[0;34m,\u001b[0m \u001b[0merrno\u001b[0m\u001b[0;34m.\u001b[0m\u001b[0mEINTR\u001b[0m\u001b[0;34m)\u001b[0m\u001b[0;34m:\u001b[0m\u001b[0;34m\u001b[0m\u001b[0;34m\u001b[0m\u001b[0m\n\u001b[0;32m--> 571\u001b[0;31m                     \u001b[0;32mraise\u001b[0m \u001b[0mSerialException\u001b[0m\u001b[0;34m(\u001b[0m\u001b[0;34m'write failed: {}'\u001b[0m\u001b[0;34m.\u001b[0m\u001b[0mformat\u001b[0m\u001b[0;34m(\u001b[0m\u001b[0me\u001b[0m\u001b[0;34m)\u001b[0m\u001b[0;34m)\u001b[0m\u001b[0;34m\u001b[0m\u001b[0;34m\u001b[0m\u001b[0m\n\u001b[0m\u001b[1;32m    572\u001b[0m             \u001b[0;32mexcept\u001b[0m \u001b[0mselect\u001b[0m\u001b[0;34m.\u001b[0m\u001b[0merror\u001b[0m \u001b[0;32mas\u001b[0m \u001b[0me\u001b[0m\u001b[0;34m:\u001b[0m\u001b[0;34m\u001b[0m\u001b[0;34m\u001b[0m\u001b[0m\n\u001b[1;32m    573\u001b[0m                 \u001b[0;31m# this is for Python 2.x\u001b[0m\u001b[0;34m\u001b[0m\u001b[0;34m\u001b[0m\u001b[0;34m\u001b[0m\u001b[0m\n",
      "\u001b[0;31mSerialException\u001b[0m: write failed: [Errno 6] Device not configured"
     ]
    }
   ],
   "source": []
  },
  {
   "cell_type": "code",
   "execution_count": 91,
   "metadata": {},
   "outputs": [
    {
     "data": {
      "text/plain": [
       "17.580000000000002"
      ]
     },
     "execution_count": 91,
     "metadata": {},
     "output_type": "execute_result"
    }
   ],
   "source": [
    "s.move(20,0)"
   ]
  },
  {
   "cell_type": "code",
   "execution_count": 87,
   "metadata": {},
   "outputs": [
    {
     "data": {
      "text/plain": [
       "1"
      ]
     },
     "execution_count": 87,
     "metadata": {},
     "output_type": "execute_result"
    }
   ],
   "source": [
    "s1.write(on)"
   ]
  },
  {
   "cell_type": "code",
   "execution_count": 85,
   "metadata": {
    "collapsed": true
   },
   "outputs": [],
   "source": [
    "s.OnlyMove(20,1)"
   ]
  },
  {
   "cell_type": "code",
   "execution_count": null,
   "metadata": {
    "collapsed": true
   },
   "outputs": [],
   "source": []
  }
 ],
 "metadata": {
  "kernelspec": {
   "display_name": "Python 3",
   "language": "python",
   "name": "python3"
  },
  "language_info": {
   "codemirror_mode": {
    "name": "ipython",
    "version": 3
   },
   "file_extension": ".py",
   "mimetype": "text/x-python",
   "name": "python",
   "nbconvert_exporter": "python",
   "pygments_lexer": "ipython3",
   "version": "3.6.8"
  }
 },
 "nbformat": 4,
 "nbformat_minor": 2
}
